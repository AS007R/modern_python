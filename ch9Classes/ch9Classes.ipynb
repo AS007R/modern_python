{
 "cells": [
  {
   "cell_type": "markdown",
   "metadata": {},
   "source": [
    "#Classes"
   ]
  },
  {
   "cell_type": "code",
   "execution_count": 6,
   "metadata": {},
   "outputs": [
    {
     "name": "stdout",
     "output_type": "stream",
     "text": [
      "Pak Khan\n",
      "Pashtoon\n",
      "The Pak Khan is open now!\n",
      "Welcome to Pak Khan, this is a famous Pashtoon restaurant.\n"
     ]
    }
   ],
   "source": [
    "class Restaurant:\n",
    "  def  __init__(self, restaurant_name:str, cuisine_type:str):\n",
    "    self.restaurant_name = restaurant_name\n",
    "    self.cuisine_type = cuisine_type\n",
    "  \n",
    "  def describe_restaurant(self):\n",
    "    print(f\"Welcome to {self.restaurant_name}, this is a famous {self.cuisine_type} restaurant.\")\n",
    "  def open_restaurant(self):\n",
    "    print(F\"The {self.restaurant_name} is open now!\")\n",
    "\n",
    "\n",
    "rest1:Restaurant = Restaurant(\"Pak Khan\", \"Pashtoon\")\n",
    "\n",
    "print(rest1.restaurant_name)\n",
    "print(rest1.cuisine_type)\n",
    "rest1.describe_restaurant()\n",
    "rest1.open_restaurant()\n"
   ]
  },
  {
   "cell_type": "code",
   "execution_count": 7,
   "metadata": {},
   "outputs": [
    {
     "name": "stdout",
     "output_type": "stream",
     "text": [
      "Welcome to Pak Khan, this is a famous Pashtoon restaurant.\n",
      "Welcome to Foodalize, this is a famous Italian restaurant.\n",
      "Welcome to Namkeen, this is a famous Pakistani restaurant.\n"
     ]
    }
   ],
   "source": [
    "rest2:Restaurant = Restaurant(\"Foodalize\", \"Italian\")\n",
    "rest3:Restaurant = Restaurant(\"Namkeen\", \"Pakistani\")\n",
    "\n",
    "rest1.describe_restaurant()\n",
    "rest2.describe_restaurant()\n",
    "rest3.describe_restaurant()"
   ]
  },
  {
   "cell_type": "code",
   "execution_count": 8,
   "metadata": {},
   "outputs": [
    {
     "name": "stdout",
     "output_type": "stream",
     "text": [
      "Good morning Asad!\n",
      "This is Asad Subhani and I am 25 years old Software Engineer.\n",
      "Good morning Jaweria!\n",
      "This is Jaweria Ramzan and I am 18 years old Web Developer.\n",
      "Good morning Adeel!\n",
      "This is Adeel Khokhar and I am 20 years old Software Engineer.\n"
     ]
    }
   ],
   "source": [
    "class User:\n",
    "  def __init__(self, first_name:str, last_name:str, age:int, role:str) -> None:\n",
    "    self.first_name = first_name\n",
    "    self.last_name = last_name\n",
    "    self.age = age\n",
    "    self.role = role\n",
    "  \n",
    "  def describe_user(self) -> None:\n",
    "    print(f\"This is {self.first_name} {self.last_name} and I am {self.age} years old {self.role}.\")\n",
    "  \n",
    "  def greet_User(self) -> None:\n",
    "    print(f\"Good morning {self.first_name}!\")\n",
    "\n",
    "  \n",
    "user1:User = User(\"Asad\", \"Subhani\", 25, \"Software Engineer\")\n",
    "user2:User = User(\"Jaweria\", \"Ramzan\", 18, \"Web Developer\")\n",
    "user3:User = User(\"Adeel\", \"Khokhar\", 20, \"Software Engineer\")\n",
    "\n",
    "user1.greet_User()\n",
    "user1.describe_user()\n",
    "\n",
    "user2.greet_User()\n",
    "user2.describe_user()\n",
    "\n",
    "user3.greet_User()\n",
    "user3.describe_user()"
   ]
  },
  {
   "cell_type": "code",
   "execution_count": 13,
   "metadata": {},
   "outputs": [
    {
     "name": "stdout",
     "output_type": "stream",
     "text": [
      "0\n",
      "23\n",
      "13\n",
      "16\n",
      "1\n",
      "2\n",
      "3\n",
      "4\n",
      "5\n",
      "6\n",
      "0\n"
     ]
    }
   ],
   "source": [
    "class Restaurant:\n",
    "  def  __init__(self, restaurant_name:str, cuisine_type:str):\n",
    "    self.restaurant_name = restaurant_name\n",
    "    self.cuisine_type = cuisine_type\n",
    "  number_served: int = 0\n",
    "  login_attempts: int = 0\n",
    "\n",
    "  # Login attempts\n",
    "  def increment_login_attempts(self)->None:\n",
    "    self.login_attempts += 1\n",
    "\n",
    "  # reset login attempts\n",
    "  def reset_login_attempts(self)->None:\n",
    "    self.login_attempts = 0\n",
    "\n",
    "  def set_number_served(self, number:int)->None:\n",
    "    self.number_served = number\n",
    "\n",
    "  def increment_number_served(self, number:int)->None:\n",
    "    self.number_served += number\n",
    "\n",
    "  def describe_restaurant(self):\n",
    "    print(f\"Welcome to {self.restaurant_name}, this is a famous {self.cuisine_type} restaurant.\")\n",
    "\n",
    "  def open_restaurant(self):\n",
    "    print(F\"The {self.restaurant_name} is open now!\")\n",
    "\n",
    "restaurant:Restaurant = Restaurant(\"Namkeen\", \"Pakistani\")\n",
    "print(restaurant.number_served)\n",
    "\n",
    "restaurant.number_served = 23\n",
    "print(restaurant.number_served)\n",
    "\n",
    "restaurant.set_number_served(13)\n",
    "print(restaurant.number_served)\n",
    "\n",
    "restaurant.increment_number_served(3)\n",
    "print(restaurant.number_served)\n",
    "\n",
    "restaurant.increment_login_attempts()\n",
    "print(restaurant.login_attempts)\n",
    "restaurant.increment_login_attempts()\n",
    "print(restaurant.login_attempts)\n",
    "restaurant.increment_login_attempts()\n",
    "print(restaurant.login_attempts)\n",
    "restaurant.increment_login_attempts()\n",
    "print(restaurant.login_attempts)\n",
    "restaurant.increment_login_attempts()\n",
    "print(restaurant.login_attempts)\n",
    "restaurant.increment_login_attempts()\n",
    "print(restaurant.login_attempts)\n",
    "restaurant.reset_login_attempts()\n",
    "print(restaurant.login_attempts)"
   ]
  },
  {
   "cell_type": "code",
   "execution_count": 14,
   "metadata": {},
   "outputs": [
    {
     "name": "stdout",
     "output_type": "stream",
     "text": [
      "We have following flavors available:\n",
      "\tKujja Special\n",
      "\tchocolao Dry\n",
      "\tPinapple Cool\n"
     ]
    }
   ],
   "source": [
    "class IceCreamStand(Restaurant):\n",
    "  def __init__(self, restaurant_name: str, cuisine_type: str, flavors:list[str]):\n",
    "    self.flavors = flavors\n",
    "    super().__init__(restaurant_name, cuisine_type)\n",
    "\n",
    "  # method to show flavors\n",
    "  def show_flavorse(self)->None:\n",
    "    print(\"We have following flavors available:\")\n",
    "    for flv in self.flavors:\n",
    "      print(f\"\\t{flv}\")\n",
    "\n",
    "ice1:IceCreamStand = IceCreamStand(\"cool Ice\", \"Italian\", [\"Kujja Special\", \"chocolao Dry\", \"Pinapple Cool\"])\n",
    "ice1.show_flavorse()"
   ]
  },
  {
   "cell_type": "code",
   "execution_count": 15,
   "metadata": {},
   "outputs": [
    {
     "name": "stdout",
     "output_type": "stream",
     "text": [
      "This is Nabeel Ahmad and I am 23 years old admin.\n",
      "Admin have following fprivileges:\n",
      "\tadd user\n",
      "\tadd post\n",
      "\tdelete user\n"
     ]
    }
   ],
   "source": [
    "class Admin(User):\n",
    "  def __init__(self, first_name: str, last_name: str, age: int, role: str, privileges:list[str]) -> None:\n",
    "    self.privileges = privileges\n",
    "    super().__init__(first_name, last_name, age, role)\n",
    "\n",
    "  # list privileges of admin\n",
    "  def show_privileges(self)->None:\n",
    "    print(\"Admin have following fprivileges:\")\n",
    "    for prev in self.privileges:\n",
    "      print(f\"\\t{prev}\")\n",
    "\n",
    "my_admin:Admin = Admin(\"Nabeel\", \"Ahmad\", 23, \"admin\", [\"add user\", \"add post\", \"delete user\"])\n",
    "\n",
    "my_admin.describe_user()\n",
    "my_admin.show_privileges()"
   ]
  },
  {
   "cell_type": "code",
   "execution_count": 18,
   "metadata": {},
   "outputs": [
    {
     "name": "stdout",
     "output_type": "stream",
     "text": [
      "This is Ahad Akash and I am 18 years old Admin.\n",
      "Admin have following privileges:\n",
      "\tadd user\n",
      "\tadd post\n",
      "\tdelete user\n"
     ]
    }
   ],
   "source": [
    "class Privileges:\n",
    "  def __init__(self, privileges:list[str] = [\"add user\", \"add post\", \"delete user\"]) -> None:\n",
    "    self.privileges = privileges\n",
    "\n",
    "  def show_privileges(self)->None:\n",
    "    print(\"Admin have following privileges:\")\n",
    "    for prev in self.privileges:\n",
    "      print(f\"\\t{prev}\")\n",
    "\n",
    "\n",
    "class Admin(User):\n",
    "  def __init__(self, first_name: str, last_name: str, age: int, role: str) -> None:\n",
    "    \n",
    "    super().__init__(first_name, last_name, age, role)\n",
    "\n",
    "  # instance of privileges class\n",
    "    self.my_privileges:Privileges = Privileges()\n",
    "  \n",
    "new_admin:Admin = Admin(\"Ahad\", \"Akash\", 18, \"Admin\")\n",
    "new_admin.describe_user()\n",
    "new_admin.my_privileges.show_privileges()"
   ]
  },
  {
   "cell_type": "markdown",
   "metadata": {},
   "source": [
    "Pre Build Modules\n"
   ]
  },
  {
   "cell_type": "code",
   "execution_count": 3,
   "metadata": {},
   "outputs": [
    {
     "name": "stdout",
     "output_type": "stream",
     "text": [
      "\n",
      "Rolling six sided die\n",
      "\n",
      "5\n",
      "4\n",
      "5\n",
      "2\n",
      "3\n",
      "1\n",
      "3\n",
      "6\n",
      "4\n",
      "1\n",
      "\n",
      "Rolling Ten sided die\n",
      "\n",
      "9\n",
      "5\n",
      "9\n",
      "7\n",
      "1\n",
      "6\n",
      "5\n",
      "6\n",
      "10\n",
      "5\n",
      "\n",
      "Rolling twenty sided die\n",
      "\n",
      "14\n",
      "3\n",
      "1\n",
      "6\n",
      "12\n",
      "1\n",
      "14\n",
      "13\n",
      "6\n"
     ]
    }
   ],
   "source": [
    "from random import randint, choice\n",
    "\n",
    "class Die:\n",
    "  def __init__(self, sides:int = 6) -> None:\n",
    "    self.sides = sides\n",
    "  def roll_die(self):\n",
    "    print(randint(1,self.sides))\n",
    "\n",
    "\n",
    "sixSideDie:Die = Die()\n",
    "print(\"\\nRolling six sided die\\n\")\n",
    "sixSideDie.roll_die()\n",
    "sixSideDie.roll_die()\n",
    "sixSideDie.roll_die()\n",
    "sixSideDie.roll_die()\n",
    "sixSideDie.roll_die()\n",
    "sixSideDie.roll_die()\n",
    "sixSideDie.roll_die()\n",
    "sixSideDie.roll_die()\n",
    "sixSideDie.roll_die()\n",
    "sixSideDie.roll_die()\n",
    "\n",
    "tenSidedDie:Die = Die(10)\n",
    "print(\"\\nRolling Ten sided die\\n\")\n",
    "\n",
    "tenSidedDie.roll_die()\n",
    "tenSidedDie.roll_die()\n",
    "tenSidedDie.roll_die()\n",
    "tenSidedDie.roll_die()\n",
    "tenSidedDie.roll_die()\n",
    "tenSidedDie.roll_die()\n",
    "tenSidedDie.roll_die()\n",
    "tenSidedDie.roll_die()\n",
    "tenSidedDie.roll_die()\n",
    "tenSidedDie.roll_die()\n",
    "\n"
   ]
  },
  {
   "cell_type": "code",
   "execution_count": 4,
   "metadata": {},
   "outputs": [
    {
     "name": "stdout",
     "output_type": "stream",
     "text": [
      "\n",
      "Rolling twenty sided die\n",
      "\n",
      "19\n",
      "11\n",
      "10\n",
      "14\n",
      "17\n",
      "7\n",
      "15\n",
      "12\n",
      "6\n"
     ]
    }
   ],
   "source": [
    "twentySidedDie:Die = Die(20)\n",
    "print(\"\\nRolling twenty sided die\\n\")\n",
    "\n",
    "twentySidedDie.roll_die()\n",
    "twentySidedDie.roll_die()\n",
    "twentySidedDie.roll_die()\n",
    "twentySidedDie.roll_die()\n",
    "twentySidedDie.roll_die()\n",
    "twentySidedDie.roll_die()\n",
    "twentySidedDie.roll_die()\n",
    "twentySidedDie.roll_die()\n",
    "twentySidedDie.roll_die()"
   ]
  },
  {
   "cell_type": "code",
   "execution_count": 5,
   "metadata": {},
   "outputs": [
    {
     "name": "stdout",
     "output_type": "stream",
     "text": [
      "Tiket matching following numbers or letters wines!\n",
      "\tA\n",
      "\t3\n",
      "\t45\n",
      "\t45\n"
     ]
    }
   ],
   "source": [
    "from random import choice\n",
    "inputList:list[int|str]=[\"A\", \"B\", 3, 45, \"j\"]\n",
    "class Lotry:\n",
    "  def __init__(self, winList:list[int|str]=[]) -> None:\n",
    "    self.winList = winList\n",
    "\n",
    "  def winner(self) ->None:\n",
    "    print(\"Tiket matching following numbers or letters wines!\")\n",
    "    for turn in range(4):\n",
    "      print(f\"\\t{choice(inputList)}\")\n",
    "\n",
    "newLotry:Lotry = Lotry()\n",
    "newLotry.winner()\n"
   ]
  },
  {
   "cell_type": "markdown",
   "metadata": {},
   "source": [
    "## Function Overloading"
   ]
  },
  {
   "cell_type": "code",
   "execution_count": 2,
   "metadata": {},
   "outputs": [
    {
     "name": "stdout",
     "output_type": "stream",
     "text": [
      "Asad Subhani\n",
      "7\n",
      "8.6\n"
     ]
    }
   ],
   "source": [
    "from re import U\n",
    "from typing import Union, overload\n",
    "\n",
    "@overload\n",
    "def add ( x:int, y:int)->int:\n",
    "  ...\n",
    "@overload\n",
    "def add (x:float, y:float)->int:\n",
    "  ...\n",
    "@overload\n",
    "def add ( x:str, y:str)->int:\n",
    "  ...\n",
    "\n",
    "\n",
    "def add (x: int|float|str, y: int|float|str)->int|float|str:\n",
    "  if isinstance (x, int) and isinstance(y, int):\n",
    "    return x + y\n",
    "  elif isinstance (x, float) and isinstance(y, float):\n",
    "    return x + y\n",
    "  elif isinstance (x, str) and isinstance(y, str):\n",
    "    return x + y\n",
    "  else :\n",
    "    raise TypeError(\"Invalid arguments.\")\n",
    "\n",
    "\n",
    "print(add(\"Asad\", \" Subhani\"))\n",
    "print(add(3,4))\n",
    "print(add(3.5, 5.1))"
   ]
  },
  {
   "cell_type": "markdown",
   "metadata": {},
   "source": [
    "# Encapsulation \n",
    "## Access modifier\n",
    "*Public, Private and Protected"
   ]
  },
  {
   "cell_type": "code",
   "execution_count": 3,
   "metadata": {},
   "outputs": [
    {
     "name": "stdout",
     "output_type": "stream",
     "text": [
      "User name: Admin and password: Admin\n",
      "User name: Admin and password: asad123\n"
     ]
    }
   ],
   "source": [
    "from re import I\n",
    "\n",
    "\n",
    "class Student:\n",
    "  def __init__(self) -> None:\n",
    "    self.__userName:str = \"Admin\"\n",
    "    self.__password:str = \"Admin\"\n",
    "  \n",
    "  def showDetails(self)->None:\n",
    "    print(f\"User name: {self.__userName} and password: {self.__password}\")\n",
    "  \n",
    "  def changePassword(self, newPass:str)->None:\n",
    "    self.__password = newPass\n",
    "\n",
    "\n",
    "std:Student = Student()\n",
    "\n",
    "# print(std.password) not accessable \n",
    "std.showDetails()\n",
    "std.changePassword(\"asad123\")\n",
    "std.showDetails()"
   ]
  },
  {
   "cell_type": "markdown",
   "metadata": {},
   "source": [
    "## Abstract class\n",
    "*Just a concept of class but cannot initiate an object."
   ]
  },
  {
   "cell_type": "code",
   "execution_count": 8,
   "metadata": {},
   "outputs": [
    {
     "name": "stdout",
     "output_type": "stream",
     "text": [
      "Cat is eating cat food\n"
     ]
    }
   ],
   "source": [
    "from abc import ABC, abstractmethod\n",
    "class Animal(ABC):\n",
    "  @abstractmethod\n",
    "  def __init__(self) -> None:\n",
    "    super().__init__()\n",
    "  @abstractmethod\n",
    "  def eat(self, food) ->None:\n",
    "    ...\n",
    "\n",
    "\n",
    "# cat:Animal = Animal()  can't initiate any object.\n",
    "class Cat(Animal):\n",
    "  def __init__(self) -> None:\n",
    "    super().__init__()\n",
    "  \n",
    "  def eat(self, food) ->None:\n",
    "    print(f\"Cat is eating {food}\")\n",
    "\n",
    "cat:Cat = Cat()\n",
    "cat.eat(\"cat food\")"
   ]
  },
  {
   "cell_type": "code",
   "execution_count": null,
   "metadata": {},
   "outputs": [],
   "source": []
  },
  {
   "cell_type": "code",
   "execution_count": null,
   "metadata": {},
   "outputs": [],
   "source": []
  }
 ],
 "metadata": {
  "kernelspec": {
   "display_name": "Python 3",
   "language": "python",
   "name": "python3"
  },
  "language_info": {
   "codemirror_mode": {
    "name": "ipython",
    "version": 3
   },
   "file_extension": ".py",
   "mimetype": "text/x-python",
   "name": "python",
   "nbconvert_exporter": "python",
   "pygments_lexer": "ipython3",
   "version": "3.12.0"
  }
 },
 "nbformat": 4,
 "nbformat_minor": 2
}
