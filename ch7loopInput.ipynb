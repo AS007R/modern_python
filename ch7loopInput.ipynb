{
 "cells": [
  {
   "cell_type": "code",
   "execution_count": null,
   "metadata": {},
   "outputs": [
    {
     "name": "stdout",
     "output_type": "stream",
     "text": [
      "Let me see if can find you a BMW\n"
     ]
    }
   ],
   "source": [
    "car:str = input(\"Enter the car name: \")\n",
    "print(f\"Let me see if can find you a {car}\")"
   ]
  },
  {
   "cell_type": "code",
   "execution_count": null,
   "metadata": {},
   "outputs": [
    {
     "name": "stdout",
     "output_type": "stream",
     "text": [
      "Your table ready.\n"
     ]
    }
   ],
   "source": [
    "customers:int = int(input(\"Enter the number of people(in digits): \"))\n",
    "if customers>8:\n",
    "  print(\"You'll have to wait for a table.\")\n",
    "else:\n",
    "  print(\"Your table ready.\")\n"
   ]
  },
  {
   "cell_type": "code",
   "execution_count": null,
   "metadata": {},
   "outputs": [
    {
     "name": "stdout",
     "output_type": "stream",
     "text": [
      "Number is not a multiple of 10.\n"
     ]
    }
   ],
   "source": [
    "number:int = int(input(\"Enter any number(in digits): \"))\n",
    "if number%10 ==0:\n",
    "  print(\"Number is multiple of 10.\")\n",
    "else:\n",
    "  print(\"Number is not a multiple of 10.\")"
   ]
  },
  {
   "cell_type": "markdown",
   "metadata": {},
   "source": [
    "while loop"
   ]
  },
  {
   "cell_type": "code",
   "execution_count": 1,
   "metadata": {},
   "outputs": [
    {
     "name": "stdout",
     "output_type": "stream",
     "text": [
      "I'll add good to your pizza!\n",
      "I'll add no to your pizza!\n",
      "I'll add kuch b to your pizza!\n",
      "I'll add kuch b to your pizza!\n",
      "I'll add kewn bhai to your pizza!\n"
     ]
    }
   ],
   "source": [
    "toping:str = \"\"\n",
    "while True:\n",
    "  toping = input(\"Enter the topping name or quit to exit: \")\n",
    "  if toping == \"quit\":\n",
    "    break\n",
    "  else:\n",
    "    print(f\"I'll add {toping} to your pizza!\")"
   ]
  },
  {
   "cell_type": "code",
   "execution_count": 3,
   "metadata": {},
   "outputs": [
    {
     "name": "stdout",
     "output_type": "stream",
     "text": [
      "Your movie tiket is $15.\n",
      "Your movie tiket is free!\n",
      "Your movie tiket is $10.\n",
      "Your movie tiket is $15.\n"
     ]
    }
   ],
   "source": [
    "while True:\n",
    "  age:str = input(\"Enter your agr in digits or quit to stop: \")\n",
    "  if age == \"quit\":\n",
    "    break\n",
    "  else:\n",
    "    if int(age)<= 3:\n",
    "      print(\"Your movie tiket is free!\")\n",
    "    elif int(age)> 3 and int(age)<= 12:\n",
    "      print(\"Your movie tiket is $10.\")\n",
    "    else:\n",
    "      print(\"Your movie tiket is $15.\")\n",
    "    \n",
    "\n"
   ]
  },
  {
   "cell_type": "code",
   "execution_count": 4,
   "metadata": {},
   "outputs": [
    {
     "name": "stdout",
     "output_type": "stream",
     "text": [
      "Rajpoot is verified!\n",
      "Subhani is verified!\n",
      "Asad is verified!\n",
      "List of all verfied users ['Rajpoot', 'Subhani', 'Asad']\n"
     ]
    }
   ],
   "source": [
    "unverified:list[str] = [\"Asad\", \"Subhani\", \"Rajpoot\"]\n",
    "verified:list[str] = []\n",
    "\n",
    "while unverified:\n",
    "  crtUser:str = unverified.pop()\n",
    "  print(f\"{crtUser} is verified!\")\n",
    "\n",
    "  verified.append(crtUser)\n",
    "print(\"List of all verfied users\", verified)"
   ]
  },
  {
   "cell_type": "code",
   "execution_count": 6,
   "metadata": {},
   "outputs": [
    {
     "name": "stdout",
     "output_type": "stream",
     "text": [
      "I made your cheez Samdwich!\n",
      "I made your non veg Samdwich!\n",
      "I made your vegg Samdwich!\n",
      "I made your simple Samdwich!\n",
      "\n",
      "All Sandwitches.\n",
      "\t cheez\n",
      "\t non veg\n",
      "\t vegg\n",
      "\t simple\n"
     ]
    }
   ],
   "source": [
    "sandwich:list[str] = [\"simple\", \"vegg\", \"non veg\", \"cheez\"]\n",
    "compSand:list[str] = []\n",
    "\n",
    "while sandwich:\n",
    "  crtSand:str = sandwich.pop()\n",
    "  print(f\"I made your {crtSand} Samdwich!\")\n",
    "\n",
    "  compSand.append(crtSand)\n",
    "print(\"\\nAll Sandwitches.\")\n",
    "for snd in compSand:\n",
    "  print(\"\\t\",snd)"
   ]
  },
  {
   "cell_type": "code",
   "execution_count": 8,
   "metadata": {},
   "outputs": [
    {
     "name": "stdout",
     "output_type": "stream",
     "text": [
      "We have run out of 'pastrami'.\n",
      "\n",
      "I made your cheez Samdwich!\n",
      "I made your non veg Samdwich!\n",
      "I made your vegg Samdwich!\n",
      "I made your simple Samdwich!\n",
      "\n",
      "All Sandwitches.\n",
      "\t cheez\n",
      "\t non veg\n",
      "\t vegg\n",
      "\t simple\n"
     ]
    }
   ],
   "source": [
    "sandwich:list[str] = [\"simple\", \" pastrami\", \"vegg\", \" pastrami\", \"non veg\", \"cheez\", \" pastrami\"]\n",
    "compSand:list[str] = []\n",
    "print(\"We have run out of 'pastrami'.\\n\")\n",
    "for snd in sandwich:\n",
    "  if snd == \" pastrami\":\n",
    "    sandwich.remove(snd)\n",
    "\n",
    "while sandwich:\n",
    "  crtSand:str = sandwich.pop()\n",
    "  print(f\"I made your {crtSand} Samdwich!\")\n",
    "\n",
    "  compSand.append(crtSand)\n",
    "print(\"\\nAll Sandwitches.\")\n",
    "for snd in compSand:\n",
    "  print(\"\\t\",snd)"
   ]
  },
  {
   "cell_type": "code",
   "execution_count": 11,
   "metadata": {},
   "outputs": [
    {
     "name": "stdout",
     "output_type": "stream",
     "text": [
      "asad wants to visit south\n",
      "adeel wants to visit north\n",
      "yes wants to visit yes\n"
     ]
    }
   ],
   "source": [
    "from typing import Dict\n",
    "\n",
    "\n",
    "places:Dict[str, str] = {}\n",
    "while True:\n",
    "  name:str = input(\"Enter your name: \")\n",
    "  place:str = input(\"If you could visit one place in the world, where would you go?: \")\n",
    "  places[name] = place\n",
    "  new:str = input(\"Want to enter new poll record? (y/n) \")\n",
    "  if new == \"n\":\n",
    "    break\n",
    "\n",
    "for name, place in places.items():\n",
    "  print(f\"{name} wants to visit {place}\")"
   ]
  }
 ],
 "metadata": {
  "kernelspec": {
   "display_name": "Python 3",
   "language": "python",
   "name": "python3"
  },
  "language_info": {
   "codemirror_mode": {
    "name": "ipython",
    "version": 3
   },
   "file_extension": ".py",
   "mimetype": "text/x-python",
   "name": "python",
   "nbconvert_exporter": "python",
   "pygments_lexer": "ipython3",
   "version": "3.12.0"
  }
 },
 "nbformat": 4,
 "nbformat_minor": 2
}
