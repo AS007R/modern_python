{
 "cells": [
  {
   "cell_type": "code",
   "execution_count": 1,
   "metadata": {},
   "outputs": [],
   "source": [
    "data:list[tuple[str, str]] = [(\"Asad Subhani\", \"123\" ), (\"Subhani\", \"13\" ), (\"Asad\", \"12\" )]\n",
    "\n",
    "inpName:str = input(\"Enter the name: \")\n",
    "inpPass:str = input(\"Enter the Password: \")\n",
    "\n",
    "for user in data:\n",
    "  Name, Password = user\n",
    "  if inpName == Name and inpPass == Password:\n",
    "    print(\"Valid User\")\n",
    "    break\n",
    "else:\n",
    "  print(\"User not found, Or Invalid User\")"
   ]
  },
  {
   "cell_type": "code",
   "execution_count": 4,
   "metadata": {},
   "outputs": [
    {
     "name": "stdout",
     "output_type": "stream",
     "text": [
      "{3: 'Asad', 'fname': 'Zafar Iqbal', 'name': 'Subhani'}\n"
     ]
    }
   ],
   "source": [
    "from typing import Dict, Union\n",
    "import pprint\n",
    "\n",
    "Key = str | int\n",
    "Value = str | int\n",
    "data: Dict[Key, Value] = {3: \"Asad\", \"name\":\"Subhani\", \"fname\": \"Zafar Iqbal\"}\n",
    "\n",
    "pprint.pprint(data)"
   ]
  },
  {
   "cell_type": "code",
   "execution_count": 15,
   "metadata": {},
   "outputs": [
    {
     "name": "stdout",
     "output_type": "stream",
     "text": [
      "{'name': 'Asad', 'fname': 'Zafar Iqbal'}\n",
      "fname\n",
      "Zafar Iqbal\n",
      "{'name': 'Asad'}\n"
     ]
    }
   ],
   "source": [
    "data[\"name\"] = \"Asad\"\n",
    "data[\"fname\"] = \"Zafar Iqbal\"\n",
    "print(data)\n",
    "key, val = data.popitem()\n",
    "print(key)\n",
    "print(val)\n",
    "print(data)"
   ]
  }
 ],
 "metadata": {
  "kernelspec": {
   "display_name": "Python 3",
   "language": "python",
   "name": "python3"
  },
  "language_info": {
   "codemirror_mode": {
    "name": "ipython",
    "version": 3
   },
   "file_extension": ".py",
   "mimetype": "text/x-python",
   "name": "python",
   "nbconvert_exporter": "python",
   "pygments_lexer": "ipython3",
   "version": "3.12.0"
  }
 },
 "nbformat": 4,
 "nbformat_minor": 2
}
