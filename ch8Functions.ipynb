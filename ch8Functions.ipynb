{
 "cells": [
  {
   "cell_type": "code",
   "execution_count": 1,
   "metadata": {},
   "outputs": [
    {
     "name": "stdout",
     "output_type": "stream",
     "text": [
      "You are learning Functions and different types and veriations of functions in this chapter.\n"
     ]
    }
   ],
   "source": [
    "def message():\n",
    "  print(\"You are learning Functions and different types and veriations of functions in this chapter.\")\n",
    "\n",
    "message()"
   ]
  },
  {
   "cell_type": "code",
   "execution_count": 3,
   "metadata": {},
   "outputs": [
    {
     "name": "stdout",
     "output_type": "stream",
     "text": [
      "My favorite book is Rich Dad Poor Dad.\n"
     ]
    }
   ],
   "source": [
    "def favBook(title:str):\n",
    "  print(f\"My favorite book is {title}.\")\n",
    "\n",
    "favBook(\"Rich Dad Poor Dad\")"
   ]
  },
  {
   "cell_type": "code",
   "execution_count": 5,
   "metadata": {},
   "outputs": [
    {
     "name": "stdout",
     "output_type": "stream",
     "text": [
      "start\n",
      "doing some task\n",
      "End\n"
     ]
    }
   ],
   "source": [
    "def startend(func):\n",
    "  def additional():\n",
    "    print(\"start\")\n",
    "    func()\n",
    "    print(\"End\")\n",
    "  return additional\n",
    "\n",
    "@startend\n",
    "def hello():\n",
    "  print(\"doing some task\")\n",
    "\n",
    "hello()"
   ]
  },
  {
   "cell_type": "code",
   "execution_count": 6,
   "metadata": {},
   "outputs": [
    {
     "name": "stdout",
     "output_type": "stream",
     "text": [
      "You order a Larg t-shirt with a 'Asad Subhani' text on it.\n",
      "You order a Medium t-shirt with a 'ASR' text on it.\n"
     ]
    }
   ],
   "source": [
    "def make_shirt(size:str, mesg:str) ->None:\n",
    "  print(f\"You order a {size} t-shirt with a '{mesg}' text on it.\")\n",
    "\n",
    "make_shirt(\"Larg\", \"Asad Subhani\")\n",
    "make_shirt(mesg=\"ASR\", size=\"Medium\")\n"
   ]
  },
  {
   "cell_type": "code",
   "execution_count": 8,
   "metadata": {},
   "outputs": [
    {
     "name": "stdout",
     "output_type": "stream",
     "text": [
      "You order a Large t-shirt with a 'Asad Subhani' text on it.\n",
      "You order a Medium t-shirt with a 'ASR' text on it.\n"
     ]
    }
   ],
   "source": [
    "def make_shirt( mesg=str, size:str = \"Large\") -> None:\n",
    "  print(f\"You order a {size} t-shirt with a '{mesg}' text on it.\")\n",
    "\n",
    "make_shirt(\"Asad Subhani\")\n",
    "make_shirt(mesg=\"ASR\", size=\"Medium\")"
   ]
  },
  {
   "cell_type": "code",
   "execution_count": 9,
   "metadata": {},
   "outputs": [
    {
     "name": "stdout",
     "output_type": "stream",
     "text": [
      "Lahore is in Pakistan\n",
      "Islamabad is in Pakistan\n",
      "Kabul is in Afganistan\n"
     ]
    }
   ],
   "source": [
    "def  describe_city(city:str, country:str = \"Pakistan\")-> None:\n",
    "  print(f\"{city} is in {country}\")\n",
    "\n",
    "describe_city(\"Lahore\")\n",
    "describe_city(\"Islamabad\")\n",
    "describe_city(\"Kabul\", \"Afganistan\")"
   ]
  },
  {
   "cell_type": "code",
   "execution_count": 11,
   "metadata": {},
   "outputs": [
    {
     "name": "stdout",
     "output_type": "stream",
     "text": [
      "\"Lahore, Pakistan\"\n",
      "\"Islamabad, Pakistan\"\n",
      "\"Karachi, Pakistan\"\n"
     ]
    }
   ],
   "source": [
    "def city_country(city:str, country:str)->str:\n",
    "  message:str = f'\"{city}, {country}\"'\n",
    "  return message\n",
    "\n",
    "print(city_country(city=\"Lahore\", country=\"Pakistan\"))\n",
    "print(city_country( country=\"Pakistan\", city=\"Islamabad\"))\n",
    "print(city_country(city=\"Karachi\", country=\"Pakistan\"))"
   ]
  },
  {
   "cell_type": "code",
   "execution_count": 5,
   "metadata": {},
   "outputs": [
    {
     "name": "stdout",
     "output_type": "stream",
     "text": [
      "{'artistName': 'Atif', 'albumName': 'Travel'}\n",
      "{'artistName': 'Sahir Ali Bagga', 'albumName': 'Sad'}\n",
      "{'artistName': 'Arman', 'albumName': 'Love'}\n"
     ]
    }
   ],
   "source": [
    "from typing import Dict\n",
    "def make_album(artistName:str, albumName:str)->Dict[str,str]:\n",
    "  album:Dict[str,str] = {\"artistName\": artistName, \"albumName\":albumName}\n",
    "  return album\n",
    "\n",
    "print(make_album(\"Atif\", \"Travel\"))\n",
    "print(make_album(\"Sahir Ali Bagga\", \"Sad\"))\n",
    "print(make_album(\"Arman\", \"Love\"))"
   ]
  },
  {
   "cell_type": "code",
   "execution_count": 6,
   "metadata": {},
   "outputs": [
    {
     "name": "stdout",
     "output_type": "stream",
     "text": [
      "{'artistName': 'Atif', 'albumName': 'Travel', 'numberOfSongs': None}\n",
      "{'artistName': 'Sahir Ali Bagga', 'albumName': 'Sad', 'numberOfSongs': 32}\n"
     ]
    }
   ],
   "source": [
    "def make_album(artistName:str, title:str, numberOfSongs:int|None = None)->Dict[str,str]:\n",
    "  album:Dict[str,str] = {\"artistName\": artistName, \"albumName\":title, \"numberOfSongs\":numberOfSongs}\n",
    "  return album\n",
    "\n",
    "print(make_album(\"Atif\", \"Travel\"))\n",
    "print(make_album(\"Sahir Ali Bagga\", \"Sad\", 32))"
   ]
  },
  {
   "cell_type": "code",
   "execution_count": 8,
   "metadata": {},
   "outputs": [
    {
     "data": {
      "text/plain": [
       "{'artistName': 'Atif', 'albumName': 'Treval', 'numberOfSongs': 32}"
      ]
     },
     "execution_count": 8,
     "metadata": {},
     "output_type": "execute_result"
    }
   ],
   "source": [
    "while True:\n",
    "  artist:str = input(\"Enter the artist name: \").title()\n",
    "  albumTitle:str = input(\"Enter the album's title: \").title()\n",
    "  songs:int = int(input(\"Enter the number of songs: \"))\n",
    "  break\n",
    "\n",
    "make_album(artist, albumTitle, songs )"
   ]
  },
  {
   "cell_type": "code",
   "execution_count": 13,
   "metadata": {},
   "outputs": [
    {
     "name": "stdout",
     "output_type": "stream",
     "text": [
      "Hello there,\n",
      "This is ASR.\n",
      "I'm leaning Python from PIAIC.\n"
     ]
    }
   ],
   "source": [
    "messages:list[str] = [\"Hello there,\", \"This is ASR.\", \"I'm leaning Python from PIAIC.\",\"kewn\"]\n",
    "def showMesg(mesgs:list[str])->None:\n",
    "  for mesg in mesgs:\n",
    "    print(mesg)\n",
    "\n",
    "showMesg(messages)"
   ]
  },
  {
   "cell_type": "code",
   "execution_count": 38,
   "metadata": {},
   "outputs": [
    {
     "name": "stdout",
     "output_type": "stream",
     "text": [
      "Sending message: Hello there.\n",
      "Sending message: This is ASR.\n",
      "Sending message: I am leaning Python from PIAIC.\n",
      "Sending message: kewn\n",
      "\n",
      "Following messages has been sent.\n",
      "Hello there.\n",
      "This is ASR.\n",
      "I am leaning Python from PIAIC.\n",
      "kewn\n"
     ]
    }
   ],
   "source": [
    "messages:list[str] = [\"Hello there.\", \"This is ASR.\", \"I am leaning Python from PIAIC.\",\"kewn\"]\n",
    "sentMesgs:list[str] = []\n",
    "def send_messages(mesgs:list[str], sent:list[str])->None:\n",
    " \n",
    "  for msg in mesgs:\n",
    "    sent.append(msg)\n",
    "    print(f\"Sending message: {msg}\")\n",
    "    \n",
    "\n",
    "\n",
    "send_messages(mesgs= messages, sent=sentMesgs)\n",
    "print(\"\\nFollowing messages has been sent.\")\n",
    "showMesg(sentMesgs)\n"
   ]
  },
  {
   "cell_type": "code",
   "execution_count": 37,
   "metadata": {},
   "outputs": [
    {
     "name": "stdout",
     "output_type": "stream",
     "text": [
      "Sending message: Hello!\n",
      "Sending message: How are you?\n",
      "Sending message: Goodbye!\n",
      "Original messages: ['Hello!', 'How are you?', 'Goodbye!']\n",
      "Sent messages: ['Hello!', 'How are you?', 'Goodbye!']\n"
     ]
    }
   ],
   "source": [
    "sent_messages = []  # Initialize an empty list to store sent messages\n",
    "def send_messages(messages, sent_messages):\n",
    "   \n",
    "    for message in messages:\n",
    "        print(f\"Sending message: {message}\")\n",
    "        sent_messages.append(message)  # Add the message to the 'sent_messages' list\n",
    "        \n",
    "    \n",
    "    return sent_messages\n",
    "\n",
    "# Example usage:\n",
    "text_messages = [\"Hello!\", \"How are you?\", \"Goodbye!\"]\n",
    "sent_messages_list = send_messages(text_messages, sent_messages)\n",
    "\n",
    "# Print both lists to verify correctness\n",
    "print(\"Original messages:\", text_messages)\n",
    "print(\"Sent messages:\", sent_messages_list)"
   ]
  },
  {
   "cell_type": "code",
   "execution_count": 40,
   "metadata": {},
   "outputs": [
    {
     "name": "stdout",
     "output_type": "stream",
     "text": [
      "Sending message: kewn\n",
      "Sending message: I am leaning Python from PIAIC.\n",
      "Sending message: This is ASR.\n",
      "Sending message: Hello there.\n",
      "[]\n",
      "\n",
      "Following messages has been sent.\n",
      "kewn\n",
      "I am leaning Python from PIAIC.\n",
      "This is ASR.\n",
      "Hello there.\n"
     ]
    }
   ],
   "source": [
    "messages:list[str] = [\"Hello there.\", \"This is ASR.\", \"I am leaning Python from PIAIC.\",\"kewn\"]\n",
    "sentMesgs:list[str] = []\n",
    "def send_messages(mesgs:list[str], sent:list[str])->None:\n",
    " \n",
    "  while mesgs:\n",
    "    msg:str = mesgs.pop()\n",
    "    print(f\"Sending message: {msg}\")\n",
    "    sent.append(msg)\n",
    "    \n",
    "\n",
    "\n",
    "send_messages(mesgs= messages, sent=sentMesgs)\n",
    "print(messages)\n",
    "print(\"\\nFollowing messages has been sent.\")\n",
    "showMesg(sentMesgs)"
   ]
  },
  {
   "cell_type": "code",
   "execution_count": 42,
   "metadata": {},
   "outputs": [
    {
     "name": "stdout",
     "output_type": "stream",
     "text": [
      "Sending message: kewn\n",
      "Sending message: I am leaning Python from PIAIC.\n",
      "Sending message: This is ASR.\n",
      "Sending message: Hello there.\n",
      "['Hello there.', 'This is ASR.', 'I am leaning Python from PIAIC.', 'kewn']\n",
      "\n",
      "Following messages has been sent.\n",
      "kewn\n",
      "I am leaning Python from PIAIC.\n",
      "This is ASR.\n",
      "Hello there.\n"
     ]
    }
   ],
   "source": [
    "messages:list[str] = [\"Hello there.\", \"This is ASR.\", \"I am leaning Python from PIAIC.\",\"kewn\"]\n",
    "sentMesgs:list[str] = []\n",
    "\n",
    "send_messages(mesgs= messages[:], sent=sentMesgs)\n",
    "print(messages)\n",
    "print(\"\\nFollowing messages has been sent.\")\n",
    "showMesg(sentMesgs)"
   ]
  },
  {
   "cell_type": "code",
   "execution_count": 43,
   "metadata": {},
   "outputs": [
    {
     "name": "stdout",
     "output_type": "stream",
     "text": [
      "You order a sandwich with following items:\n",
      "Chiken\n",
      "Onion\n",
      "Mio\n",
      "Egg\n"
     ]
    }
   ],
   "source": [
    "def order_sandwich(*items:str)->None:\n",
    "  print(\"You order a sandwich with following items:\")\n",
    "  for item in items:\n",
    "    print(item.title())\n",
    "\n",
    "\n",
    "order_sandwich(\"Chiken\", \"onion\", \"mio\", \"egg\")"
   ]
  },
  {
   "cell_type": "code",
   "execution_count": 44,
   "metadata": {},
   "outputs": [
    {
     "data": {
      "text/plain": [
       "{'education': 'BSSE',\n",
       " 'address': 'Lahore',\n",
       " 'first_name': 'Asad',\n",
       " 'last_name': 'Subhani'}"
      ]
     },
     "execution_count": 44,
     "metadata": {},
     "output_type": "execute_result"
    }
   ],
   "source": [
    "def make_profile(first:str, last:str, **user_info:str)->Dict[str,str]:\n",
    "  user_info[\"first_name\"] = first\n",
    "  user_info[\"last_name\"] = last\n",
    "  return user_info\n",
    "\n",
    "make_profile(\"Asad\", \"Subhani\", education =\"BSSE\", address = \"Lahore\")"
   ]
  },
  {
   "cell_type": "code",
   "execution_count": 46,
   "metadata": {},
   "outputs": [
    {
     "name": "stdout",
     "output_type": "stream",
     "text": [
      "{'color': 'blue', 'tow_package': True, 'manufacturer_name': 'subaru', 'car_model': 'outback'}\n"
     ]
    }
   ],
   "source": [
    "def make_car(manufacturer:str, model:str, **user_info:str)->Dict[str,str]:\n",
    "  user_info[\"manufacturer_name\"] = manufacturer\n",
    "  user_info[\"car_model\"] = model\n",
    "  return user_info\n",
    "\n",
    "car = make_car('subaru', 'outback', color='blue', tow_package=True)\n",
    "print(car)"
   ]
  }
 ],
 "metadata": {
  "kernelspec": {
   "display_name": "Python 3",
   "language": "python",
   "name": "python3"
  },
  "language_info": {
   "codemirror_mode": {
    "name": "ipython",
    "version": 3
   },
   "file_extension": ".py",
   "mimetype": "text/x-python",
   "name": "python",
   "nbconvert_exporter": "python",
   "pygments_lexer": "ipython3",
   "version": "3.12.0"
  }
 },
 "nbformat": 4,
 "nbformat_minor": 2
}
