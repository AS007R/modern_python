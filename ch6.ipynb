{
 "cells": [
  {
   "cell_type": "code",
   "execution_count": 1,
   "metadata": {},
   "outputs": [
    {
     "name": "stdout",
     "output_type": "stream",
     "text": [
      "Name: Asad Subhani\n",
      "Father name: Zafar Iqbal\n",
      "Age: 25\n",
      "City: Lahore\n"
     ]
    }
   ],
   "source": [
    "from typing import Dict\n",
    "\n",
    "\n",
    "personData: Dict[str, str | int] = { \n",
    "  \"first_name\": \"Asad Subhani\",\n",
    "  \"father_name\": \"Zafar Iqbal\",\n",
    "  \"age\": 25,\n",
    "  \"city\": \"Lahore\"\n",
    "\n",
    "}\n",
    "print(f\"Name: {personData.get(\"first_name\")}\")\n",
    "print(f\"Father name: {personData.get(\"father_name\")}\")\n",
    "print(f\"Age: {personData.get(\"age\")}\")\n",
    "print(f\"City: {personData.get(\"city\")}\")"
   ]
  },
  {
   "cell_type": "code",
   "execution_count": 2,
   "metadata": {},
   "outputs": [
    {
     "name": "stdout",
     "output_type": "stream",
     "text": [
      "Asad's favorit number is 7\n",
      "Humza's favorit number is 9\n",
      "Adeel's favorit number is 5\n",
      "Jaweria's favorit number is 3\n"
     ]
    }
   ],
   "source": [
    "personData: Dict[str, int] = { \n",
    "  \"Asad\": 7,\n",
    "  \"Jaweria\": 3,\n",
    "  \"Adeel\": 5,\n",
    "  \"Humza\": 9\n",
    "\n",
    "}\n",
    "print(f\"Asad's favorit number is {personData.get(\"Asad\")}\")\n",
    "print(f\"Humza's favorit number is {personData.get(\"Humza\")}\")\n",
    "print(f\"Adeel's favorit number is {personData.get(\"Adeel\")}\")\n",
    "print(f\"Jaweria's favorit number is {personData.get(\"Jaweria\")}\")"
   ]
  },
  {
   "cell_type": "code",
   "execution_count": 3,
   "metadata": {},
   "outputs": [
    {
     "name": "stdout",
     "output_type": "stream",
     "text": [
      "Veriable: Variable is storing indicator to store some value that can varies\n",
      "List: List is a collection of identical data in a single place\n",
      "Function: Functions is a block of code that can perform a specific task at specific time by calling\n",
      "Tupple: Tupple is a special type in python that can stor multiple values like 'list' but unlike list it can not by updated\n"
     ]
    }
   ],
   "source": [
    "glossary: Dict[str, str] = { \n",
    "  \"Variable\": \"Variable is storing indicator to store some value that can varies.\",\n",
    "  \"List\": \"List is a collection of identical data in a single place.\",\n",
    "  \"Function\": \"Functions is a block of code that can perform a specific task at specific time by calling.\",\n",
    "  \"Tupple\": \"Tupple is a special type in python that can stor multiple values like 'list' but unlike list it can not by updated.\"\n",
    "\n",
    "}\n",
    "\n",
    "print(f\"Veriable: {glossary.get(\"Variable\")}\")\n",
    "print(f\"List: {glossary.get(\"List\")}\")\n",
    "print(f\"Function: {glossary.get(\"Function\")}\")\n",
    "print(f\"Tupple: {glossary.get(\"Tupple\")}\")"
   ]
  },
  {
   "cell_type": "code",
   "execution_count": 10,
   "metadata": {},
   "outputs": [
    {
     "name": "stdout",
     "output_type": "stream",
     "text": [
      "Variable: \n",
      "\tVariable is storing indicator to store some value that can varies.\n",
      "\n",
      "List: \n",
      "\tList is a collection of identical data in a single place.\n",
      "\n",
      "Function: \n",
      "\tFunctions is a block of code that can perform a specific task at specific time by calling.\n",
      "\n",
      "Tupple: \n",
      "\tTupple is a special type in python that can stor multiple values like 'list' but unlike list it can not by updated.\n",
      "\n",
      "Loop: \n",
      "\tLoop is a special block of code that iterate block of code for a specific number of time.\n",
      "\n",
      "if else: \n",
      "\tif else statements are used for conditional execution of a perticular block of code.\n",
      "\n"
     ]
    }
   ],
   "source": [
    "glossary2: Dict[str, str] = { \n",
    "  \"Variable\": \"Variable is storing indicator to store some value that can varies.\",\n",
    "  \"List\": \"List is a collection of identical data in a single place.\",\n",
    "  \"Function\": \"Functions is a block of code that can perform a specific task at specific time by calling.\",\n",
    "  \"Tupple\": \"Tupple is a special type in python that can stor multiple values like 'list' but unlike list it can not by updated.\",\n",
    "  \"Loop\": \"Loop is a special block of code that iterate block of code for a specific number of time.\",\n",
    "  \"if else\": \"if else statements are used for conditional execution of a perticular block of code.\"\n",
    "\n",
    "}\n",
    "for k, v in glossary2.items():\n",
    "  print(f\"{k}: \\n\\t{v}\\n\")"
   ]
  },
  {
   "cell_type": "code",
   "execution_count": 14,
   "metadata": {},
   "outputs": [
    {
     "name": "stdout",
     "output_type": "stream",
     "text": [
      "Sindh runs through Pakistan\n",
      "Jamna runs through India\n",
      "Nile runs through Egypt\n",
      "\n",
      "All rivers:\n",
      "\tSindh\n",
      "\tJamna\n",
      "\tNile\n",
      "\n",
      "All Countris:\n",
      "\tPakistan\n",
      "\tIndia\n",
      "\tEgypt\n"
     ]
    }
   ],
   "source": [
    "rivers: Dict[str, str] = { \n",
    "  \"Sindh\": \"Pakistan\",\n",
    "  \"Jamna\": \"India\",\n",
    "  \"Nile\": \"Egypt\"\n",
    "}\n",
    "\n",
    "for river, country in rivers.items():\n",
    "  print(f\"{river} runs through {country}\")\n",
    "\n",
    "print(\"\\nAll rivers:\")\n",
    "for river in rivers.keys():\n",
    "  print(f\"\\t{river}\")\n",
    "\n",
    "print(\"\\nAll Countris:\")\n",
    "for country in rivers.values():\n",
    "  print(f\"\\t{country}\")"
   ]
  },
  {
   "cell_type": "code",
   "execution_count": 15,
   "metadata": {},
   "outputs": [
    {
     "name": "stdout",
     "output_type": "stream",
     "text": [
      "Thanks Asad for your response.\n",
      "\n",
      "Thanks Jaweria for your response.\n",
      "\n",
      "Hello Adeel, Please take a time and poll for favorite programing language.\n",
      "\n",
      "Thanks Ahad for your response.\n",
      "\n",
      "Hello Hamza, Please take a time and poll for favorite programing language.\n",
      "\n"
     ]
    }
   ],
   "source": [
    "peopleToPole: Dict[str, bool] = {\n",
    "  \"Asad\": True,\n",
    "  \"Jaweria\": True,\n",
    "  \"Adeel\": False,\n",
    "  \"Ahad\": True,\n",
    "  \"Hamza\": False,\n",
    "\n",
    "}\n",
    "\n",
    "for name, poll in peopleToPole.items():\n",
    "  print(f\"Thanks {name} for your response.\\n\") if poll else print(f\"Hello {name}, Please take a time and poll for favorite programing language.\\n\")"
   ]
  },
  {
   "cell_type": "code",
   "execution_count": 16,
   "metadata": {},
   "outputs": [
    {
     "name": "stdout",
     "output_type": "stream",
     "text": [
      "name: Asad Subhani\n",
      "age: 25\n",
      "city: Lahore\n",
      "\n",
      "\n",
      "name: Adeel Ahmad\n",
      "age: 18\n",
      "city: Lahore\n",
      "\n",
      "\n",
      "name: Ahad\n",
      "age: 16\n",
      "city: Lahore\n",
      "\n",
      "\n"
     ]
    }
   ],
   "source": [
    "person1:Dict[str, str] = {\n",
    "  \"name\": \"Asad Subhani\",\n",
    "  \"age\": 25,\n",
    "  \"city\": \"Lahore\"\n",
    "}\n",
    "person2:Dict[str, str] = {\n",
    "  \"name\": \"Adeel Ahmad\",\n",
    "  \"age\": 18,\n",
    "  \"city\": \"Lahore\"\n",
    "}\n",
    "person3:Dict[str, str] = {\n",
    "  \"name\": \"Ahad\",\n",
    "  \"age\": 16,\n",
    "  \"city\": \"Lahore\"\n",
    "}\n",
    "\n",
    "people: list[Dict[str, str]] = [person1, person2, person3]\n",
    "\n",
    "for person in people:\n",
    "  for k, v in person.items():\n",
    "    print(f\"{k}: {v}\")\n",
    "  print(\"\\n\")"
   ]
  },
  {
   "cell_type": "code",
   "execution_count": 17,
   "metadata": {},
   "outputs": [
    {
     "name": "stdout",
     "output_type": "stream",
     "text": [
      "name: Cat\n",
      "Owner: Asad\n",
      "\n",
      "\n",
      "name: Billa\n",
      "Owner: Nabeel\n",
      "\n",
      "\n",
      "name: Snake\n",
      "Owner: Jaweria\n",
      "\n",
      "\n",
      "name: Parrote\n",
      "Owner: Aaftab\n",
      "\n",
      "\n"
     ]
    }
   ],
   "source": [
    "pet1:Dict[str, str] = {\n",
    "  \"name\": \"Cat\",\n",
    "  \"Owner\": \"Asad\"\n",
    "}\n",
    "pet2:Dict[str, str] = {\n",
    "  \"name\": \"Billa\",\n",
    "  \"Owner\": \"Nabeel\"\n",
    "}\n",
    "pet3:Dict[str, str] = {\n",
    "  \"name\": \"Snake\",\n",
    "  \"Owner\": \"Jaweria\"\n",
    "}\n",
    "pet4:Dict[str, str] = {\n",
    "  \"name\": \"Parrote\",\n",
    "  \"Owner\": \"Aaftab\"\n",
    "}\n",
    "\n",
    "pets: list[Dict[str, str]] = [pet1, pet2, pet3, pet4]\n",
    "\n",
    "for pet in pets:\n",
    "  for k, v in pet.items():\n",
    "    print(f\"{k}: {v}\")\n",
    "  print(\"\\n\")"
   ]
  },
  {
   "cell_type": "code",
   "execution_count": 18,
   "metadata": {},
   "outputs": [
    {
     "name": "stdout",
     "output_type": "stream",
     "text": [
      "Asad's favorit number is Switzerland\n",
      "\n",
      "Jaweria's favorit number is Markeet\n",
      "\n",
      "Adeel's favorit number is Murree\n",
      "\n",
      "Humza's favorit number is Northen Area\n",
      "\n"
     ]
    }
   ],
   "source": [
    "favPlaces: Dict[str, str] = { \n",
    "  \"Asad\": \"Switzerland\",\n",
    "  \"Jaweria\": \"Markeet\",\n",
    "  \"Adeel\": \"Murree\",\n",
    "  \"Humza\": \"Northen Area\"\n",
    "\n",
    "}\n",
    "for name, place in favPlaces.items():\n",
    "  print(f\"{name}'s favorit number is {place}\\n\")"
   ]
  },
  {
   "cell_type": "code",
   "execution_count": 19,
   "metadata": {},
   "outputs": [
    {
     "name": "stdout",
     "output_type": "stream",
     "text": [
      "Asad's favorit numbers are [7, 9]\n",
      "\n",
      "Jaweria's favorit numbers are [3, 8]\n",
      "\n",
      "Adeel's favorit numbers are [5, 4, 1]\n",
      "\n",
      "Humza's favorit numbers are [9, 4, 6]\n",
      "\n"
     ]
    }
   ],
   "source": [
    "favNumbers: Dict[str, list[int]] = { \n",
    "  \"Asad\": [7, 9],\n",
    "  \"Jaweria\": [3,8],\n",
    "  \"Adeel\": [5, 4, 1],\n",
    "  \"Humza\": [9,4,6]\n",
    "\n",
    "}\n",
    "for name, numbers in favNumbers.items():\n",
    "  print(f\"{name}'s favorit numbers are {numbers}\\n\")"
   ]
  },
  {
   "cell_type": "code",
   "execution_count": 26,
   "metadata": {},
   "outputs": [
    {
     "name": "stdout",
     "output_type": "stream",
     "text": [
      "\n",
      "City name: Tokyo\n",
      "\tcountry: Japan\n",
      "\tpopulation: 14 million\n",
      "\tfact: Tokyo is known for its technological advancements and is a major global economic and financial hub. It also has the world's busiest pedestrian crossing, the Shibuya Crossing.\n",
      "\n",
      "City name: New York\n",
      "\tcountry: United States\n",
      "\tpopulation: 8 million\n",
      "\tfact: New York City is often referred to as 'The Big Apple' and is a melting pot of cultures. It is home to iconic landmarks like Times Square, Central Park, and the Statue of Liberty.\n",
      "\n",
      "City name: Lahore\n",
      "\tcountry: Pakistan\n",
      "\tpopulation: 20 million\n",
      "\tfact: Lahore is famous for its cross cultural food restaurants and it is the IT hub of Pakistan.\n",
      "\n",
      "City name: Paris\n",
      "\tcountry: France\n",
      "\tpopulation: 2.1 million\n",
      "\tfact: Paris is renowned for its art, fashion, and gastronomy. It's home to iconic landmarks such as the Eiffel Tower, Louvre Museum, and Notre-Dame Cathedral. Paris is often called the 'City of Light' due to its historical importance in the Age of Enlightenment.\n"
     ]
    }
   ],
   "source": [
    "cities: Dict[str, Dict[str,str]] = {\n",
    "  \"Tokyo\":{\n",
    "    \"country\": \"Japan\",\n",
    "    \"population\": \"14 million\",\n",
    "    \"fact\": \"Tokyo is known for its technological advancements and is a major global economic and financial hub. It also has the world's busiest pedestrian crossing, the Shibuya Crossing.\"\n",
    "  },\n",
    "  \"New York\":{\n",
    "    \"country\": \"United States\",\n",
    "    \"population\": \"8 million\",\n",
    "    \"fact\": \"New York City is often referred to as 'The Big Apple' and is a melting pot of cultures. It is home to iconic landmarks like Times Square, Central Park, and the Statue of Liberty.\"\n",
    "  },\n",
    "  \"Lahore\":{\n",
    "    \"country\": \"Pakistan\",\n",
    "    \"population\": \"20 million\",\n",
    "    \"fact\": \"Lahore is famous for its cross cultural food restaurants and it is the IT hub of Pakistan.\"\n",
    "  },\n",
    "  \"Paris\":{\n",
    "    \"country\": \"France\",\n",
    "    \"population\": \"2.1 million\",\n",
    "    \"fact\": \"Paris is renowned for its art, fashion, and gastronomy. It's home to iconic landmarks such as the Eiffel Tower, Louvre Museum, and Notre-Dame Cathedral. Paris is often called the 'City of Light' due to its historical importance in the Age of Enlightenment.\"\n",
    "  }\n",
    "}\n",
    "\n",
    "for city in cities.items():\n",
    "  print(f\"\\nCity name: {city[0]}\")\n",
    "  for k,v in city[1].items():\n",
    "    print(f\"\\t{k}: {v}\")\n",
    "  "
   ]
  }
 ],
 "metadata": {
  "kernelspec": {
   "display_name": "Python 3",
   "language": "python",
   "name": "python3"
  },
  "language_info": {
   "codemirror_mode": {
    "name": "ipython",
    "version": 3
   },
   "file_extension": ".py",
   "mimetype": "text/x-python",
   "name": "python",
   "nbconvert_exporter": "python",
   "pygments_lexer": "ipython3",
   "version": "3.12.0"
  }
 },
 "nbformat": 4,
 "nbformat_minor": 2
}
